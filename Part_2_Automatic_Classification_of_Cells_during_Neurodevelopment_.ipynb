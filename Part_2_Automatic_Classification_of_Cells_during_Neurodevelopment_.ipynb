{
  "nbformat": 4,
  "nbformat_minor": 0,
  "metadata": {
    "colab": {
      "provenance": []
    },
    "kernelspec": {
      "name": "python3",
      "display_name": "Python 3"
    },
    "language_info": {
      "name": "python"
    }
  },
  "cells": [
    {
      "cell_type": "code",
      "source": [
        "# Extracting features from a single cell\n",
        "# Code written by A Siddharth Reddy"
      ],
      "metadata": {
        "id": "NgKDJ9NOt8d1"
      },
      "execution_count": null,
      "outputs": []
    },
    {
      "cell_type": "code",
      "source": [
        "import cv2\n",
        "import numpy as np\n",
        "from matplotlib import pyplot as plt\n",
        "from skimage.feature import greycomatrix, greycoprops"
      ],
      "metadata": {
        "id": "LxDDRfxz7kSt"
      },
      "execution_count": null,
      "outputs": []
    },
    {
      "cell_type": "code",
      "source": [
        "# Function to calculate local homogeneity\n",
        "def calculate_local_homogeneity(gray_image, mask):\n",
        "    # To calculate GLCM\n",
        "    glcm = greycomatrix(gray_image, distances=[1], angles=[0], levels=256, symmetric=True, normed=True)\n",
        "\n",
        "    # To calculate homogeneity\n",
        "    homogeneity = greycoprops(glcm, 'homogeneity')\n",
        "\n",
        "    return homogeneity[0, 0]"
      ],
      "metadata": {
        "id": "PUPhcHkDC7Vk"
      },
      "execution_count": null,
      "outputs": []
    },
    {
      "cell_type": "code",
      "source": [
        "# Loading the original image\n",
        "image_path = '/content/test2.jpg'\n",
        "original_image = cv2.imread(image_path)\n",
        "\n",
        "# To display the original image\n",
        "plt.figure(figsize=(6, 6))\n",
        "plt.imshow(cv2.cvtColor(original_image, cv2.COLOR_BGR2RGB))\n",
        "plt.axis('off')\n",
        "plt.show()"
      ],
      "metadata": {
        "colab": {
          "base_uri": "https://localhost:8080/",
          "height": 499
        },
        "id": "0c4znecyb8aQ",
        "outputId": "ff90712a-6db6-4b53-b4f0-217e2a79ce63"
      },
      "execution_count": null,
      "outputs": [
        {
          "output_type": "display_data",
          "data": {
            "text/plain": [
              "<Figure size 600x600 with 1 Axes>"
            ],
            "image/png": "[encoded data removed]"
          },
          "metadata": {}
        }
      ]
    },
    {
      "cell_type": "code",
      "source": [
        "# Converting the image to grayscale\n",
        "gray_image = cv2.cvtColor(original_image, cv2.COLOR_BGR2GRAY)\n",
        "\n",
        "# Displaying the grayscale image\n",
        "plt.figure(figsize=(6, 6))\n",
        "plt.imshow(gray_image, cmap='gray')\n",
        "plt.axis('off')\n",
        "plt.show()\n"
      ],
      "metadata": {
        "colab": {
          "base_uri": "https://localhost:8080/",
          "height": 499
        },
        "id": "NsuHsSNo8XjG",
        "outputId": "e14af61d-b8b2-46cb-89df-d29e1336e5da"
      },
      "execution_count": null,
      "outputs": [
        {
          "output_type": "display_data",
          "data": {
            "text/plain": [
              "<Figure size 600x600 with 1 Axes>"
            ],
            "image/png": "[encoded data removed]"
          },
          "metadata": {}
        }
      ]
    },
    {
      "cell_type": "code",
      "source": [
        "# Applying Gaussian blur to the grayscale image\n",
        "blurred_image = cv2.GaussianBlur(gray_image, (3, 3), 0)\n",
        "\n",
        "# To display the blurred image\n",
        "plt.figure(figsize=(6, 6))\n",
        "plt.imshow(blurred_image, cmap='gray')\n",
        "plt.axis('off')\n",
        "plt.show()"
      ],
      "metadata": {
        "colab": {
          "base_uri": "https://localhost:8080/",
          "height": 499
        },
        "id": "IUmpe8kF8cG7",
        "outputId": "29f1ac01-66dd-4569-80c2-9e6093ac14cf"
      },
      "execution_count": null,
      "outputs": [
        {
          "output_type": "display_data",
          "data": {
            "text/plain": [
              "<Figure size 600x600 with 1 Axes>"
            ],
            "image/png": "[encoded data removed]"
          },
          "metadata": {}
        }
      ]
    },
    {
      "cell_type": "code",
      "source": [
        "# Applying thresholding to obtain a binary image\n",
        "ret, binary_image = cv2.threshold(blurred_image, 0, 255, cv2.THRESH_BINARY_INV + cv2.THRESH_OTSU)\n",
        "\n",
        "# To display the binary image\n",
        "plt.figure(figsize=(6, 6))\n",
        "plt.imshow(binary_image, cmap='gray')\n",
        "plt.axis('off')\n",
        "plt.show()"
      ],
      "metadata": {
        "colab": {
          "base_uri": "https://localhost:8080/",
          "height": 499
        },
        "id": "ZxpVzlBu8d6z",
        "outputId": "c362f8e8-f26e-482f-8637-fbc55f385e84"
      },
      "execution_count": null,
      "outputs": [
        {
          "output_type": "display_data",
          "data": {
            "text/plain": [
              "<Figure size 600x600 with 1 Axes>"
            ],
            "image/png": "[encoded data removed]"
          },
          "metadata": {}
        }
      ]
    },
    {
      "cell_type": "code",
      "source": [
        "# To find contours on the binary image\n",
        "contours, hierarchy = cv2.findContours(binary_image, cv2.RETR_EXTERNAL, cv2.CHAIN_APPROX_SIMPLE)\n",
        "\n",
        "# Drawing the contours on the original image\n",
        "contour_image = original_image.copy()\n",
        "cv2.drawContours(contour_image, contours, -1, (0, 255, 0), 1)\n",
        "\n",
        "# Displaying the contour image\n",
        "plt.figure(figsize=(6, 6))\n",
        "plt.imshow(cv2.cvtColor(contour_image, cv2.COLOR_BGR2RGB))\n",
        "plt.axis('off')\n",
        "plt.show()"
      ],
      "metadata": {
        "colab": {
          "base_uri": "https://localhost:8080/",
          "height": 499
        },
        "id": "A0rI-ZOx8ioF",
        "outputId": "411c4863-d8c2-48e8-fdec-38805d795f4a"
      },
      "execution_count": null,
      "outputs": [
        {
          "output_type": "display_data",
          "data": {
            "text/plain": [
              "<Figure size 600x600 with 1 Axes>"
            ],
            "image/png": "[encoded data removed]"
          },
          "metadata": {}
        }
      ]
    },
    {
      "cell_type": "code",
      "source": [
        "# Cell Area: No of pixels within the detected contour.\n",
        "\n",
        "######### To describe Shape #########\n",
        "# Aspect Ratio: Ratio of the width to the height of the bounding rectangle of the detected contour.\n",
        "  ## Bounding rectangle: A rectangle that completely encloses the contour.\n",
        "# Extent:Ratio of the contour area to the area of its bounding rectangle. Measures how much of the bounding rectangle is filled by the contour.\n",
        "# Solidity: Ratio of the contour area to the area of its convex hull. Convex hull is the smallest convex shape that can enclose the contour.\n",
        "\n",
        "#Contrast: Standard deviation of the grayscale pixel values within the contour. Measures the variation in intensity values inside the contour."
      ],
      "metadata": {
        "id": "CnZUcbqN-8rk"
      },
      "execution_count": null,
      "outputs": []
    },
    {
      "cell_type": "code",
      "source": [
        "# Calculating the area, shape descriptors, and contrast for each contour\n",
        "for contour in contours:\n",
        "    # Area\n",
        "    area = cv2.contourArea(contour)\n",
        "\n",
        "    # Bounding rectangle\n",
        "    x, y, w, h = cv2.boundingRect(contour)\n",
        "\n",
        "    # Aspect ratio\n",
        "    aspect_ratio = float(w) / h\n",
        "\n",
        "    # Extent: Ratio of contour area to bounding rectangle area\n",
        "    rect_area = w * h\n",
        "    extent = float(area) / rect_area\n",
        "\n",
        "    # Convex hull and solidity: Ratio of contour area to convex hull area\n",
        "    hull = cv2.convexHull(contour)\n",
        "    hull_area = cv2.contourArea(hull)\n",
        "    solidity = float(area) / hull_area\n",
        "\n",
        "    # Contrast: Standard deviation of grayscale pixel values inside the contour\n",
        "    mask = np.zeros(gray_image.shape, np.uint8)\n",
        "    cv2.drawContours(mask, [contour], -1, 255, -1)\n",
        "    pixel_values = gray_image[mask == 255]\n",
        "    contrast = np.std(pixel_values)\n",
        "\n",
        "    # Local Homogeneity\n",
        "    local_homogeneity = calculate_local_homogeneity(gray_image, mask)\n",
        "\n",
        "    # Print the results\n",
        "    print(f\"Cell Area: {area}\")\n",
        "    print(f\"\")\n",
        "    print(f\"Aspect Ratio: {aspect_ratio}\")\n",
        "    print(f\"Extent: {extent}\")\n",
        "    print(f\"Solidity: {solidity}\")\n",
        "    print(f\"\")\n",
        "    print(f\"Contrast: {contrast}\")\n",
        "    print(\"\")\n",
        "    print(f\"Local Homogeneity of the cell: {local_homogeneity}\")\n",
        "    print(\"\")\n",
        "\n",
        "    # Drawing bounding rectangle and convex hull on the contour image for visualization\n",
        "    cv2.rectangle(contour_image, (x, y), (x + w, y + h), (255, 0, 0), 2)\n",
        "    cv2.drawContours(contour_image, [hull], -1, (0, 0, 255), 2)\n",
        "\n"
      ],
      "metadata": {
        "colab": {
          "base_uri": "https://localhost:8080/"
        },
        "id": "TofYefsY8l0n",
        "outputId": "12c10bdb-dd1c-4cf3-9d98-d7c7720741ff"
      },
      "execution_count": null,
      "outputs": [
        {
          "output_type": "stream",
          "name": "stdout",
          "text": [
            "Cell Area: 91.5\n",
            "\n",
            "Aspect Ratio: 1.6666666666666667\n",
            "Extent: 0.6777777777777778\n",
            "Solidity: 0.9631578947368421\n",
            "\n",
            "Contrast: 47.6494265573015\n",
            "\n",
            "Local Homogeneity of the cell: 0.13310067716699156\n",
            "\n"
          ]
        },
        {
          "output_type": "stream",
          "name": "stderr",
          "text": [
            "/usr/local/lib/python3.10/dist-packages/skimage/feature/__init__.py:35: skimage_deprecation: Function ``greycomatrix`` is deprecated and will be removed in version 1.0. Use ``skimage.feature.graycomatrix`` instead.\n",
            "  removed_version='1.0')\n",
            "/usr/local/lib/python3.10/dist-packages/skimage/feature/__init__.py:42: skimage_deprecation: Function ``greycoprops`` is deprecated and will be removed in version 1.0. Use ``skimage.feature.graycoprops`` instead.\n",
            "  removed_version='1.0')\n"
          ]
        }
      ]
    },
    {
      "cell_type": "code",
      "source": [
        "from skimage.feature import greycomatrix, greycoprops\n",
        "\n",
        "# Function to calculate local homogeneity\n",
        "def calculate_local_homogeneity(gray_image, mask):\n",
        "    # Calculate GLCM\n",
        "    glcm = greycomatrix(gray_image, distances=[1], angles=[0], levels=256, symmetric=True, normed=True)\n",
        "\n",
        "    # To calculate homogeneity\n",
        "    homogeneity = greycoprops(glcm, 'homogeneity')\n",
        "\n",
        "    return homogeneity[0, 0]"
      ],
      "metadata": {
        "id": "zZflvtFGCOSk"
      },
      "execution_count": null,
      "outputs": []
    },
    {
      "cell_type": "code",
      "source": [
        "mask = np.zeros(gray_image.shape, np.uint8)\n",
        "cv2.drawContours(mask, [contour], -1, 255, -1)\n",
        "pixel_values = gray_image[mask == 255]\n",
        "contrast = np.std(pixel_values)\n",
        "\n",
        "# Local Homogeneity\n",
        "local_homogeneity = calculate_local_homogeneity(gray_image, mask)\n",
        "\n",
        "# Printing the results\n",
        "print(f\"Contour Area: {area}\")\n",
        "print(f\"Aspect Ratio: {aspect_ratio}\")\n",
        "print(f\"Extent: {extent}\")\n",
        "print(f\"Solidity: {solidity}\")\n",
        "print(f\"Contrast: {contrast}\")\n",
        "print(f\"Local Homogeneity: {local_homogeneity}\")\n",
        "print(\"\")"
      ],
      "metadata": {
        "colab": {
          "base_uri": "https://localhost:8080/"
        },
        "id": "ZB1o5m4kCPNT",
        "outputId": "d5556ef3-c536-4b9c-d3c2-95c8bdf4f3ab"
      },
      "execution_count": null,
      "outputs": [
        {
          "output_type": "stream",
          "name": "stdout",
          "text": [
            "Contour Area: 91.5\n",
            "Aspect Ratio: 1.6666666666666667\n",
            "Extent: 0.6777777777777778\n",
            "Solidity: 0.9631578947368421\n",
            "Contrast: 47.6494265573015\n",
            "Local Homogeneity: 0.13310067716699156\n",
            "\n"
          ]
        },
        {
          "output_type": "stream",
          "name": "stderr",
          "text": [
            "/usr/local/lib/python3.10/dist-packages/skimage/feature/__init__.py:35: skimage_deprecation: Function ``greycomatrix`` is deprecated and will be removed in version 1.0. Use ``skimage.feature.graycomatrix`` instead.\n",
            "  removed_version='1.0')\n",
            "/usr/local/lib/python3.10/dist-packages/skimage/feature/__init__.py:42: skimage_deprecation: Function ``greycoprops`` is deprecated and will be removed in version 1.0. Use ``skimage.feature.graycoprops`` instead.\n",
            "  removed_version='1.0')\n"
          ]
        }
      ]
    }
  ]
}